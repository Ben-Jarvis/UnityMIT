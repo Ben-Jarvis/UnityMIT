{
 "cells": [
  {
   "cell_type": "code",
   "execution_count": null,
   "metadata": {},
   "outputs": [
    {
     "name": "stdout",
     "output_type": "stream",
     "text": [
      " * Serving Flask app '__main__'\n",
      " * Debug mode: off\n"
     ]
    },
    {
     "name": "stderr",
     "output_type": "stream",
     "text": [
      "\u001b[31m\u001b[1mWARNING: This is a development server. Do not use it in a production deployment. Use a production WSGI server instead.\u001b[0m\n",
      " * Running on http://127.0.0.1:5000\n",
      "\u001b[33mPress CTRL+C to quit\u001b[0m\n"
     ]
    },
    {
     "name": "stderr",
     "output_type": "stream",
     "text": [
      "127.0.0.1 - - [04/Nov/2024 10:53:06] \"POST /endpoint HTTP/1.1\" 200 -\n",
      "127.0.0.1 - - [04/Nov/2024 10:53:08] \"POST /endpoint HTTP/1.1\" 200 -\n",
      "127.0.0.1 - - [04/Nov/2024 10:53:10] \"POST /endpoint HTTP/1.1\" 200 -\n",
      "127.0.0.1 - - [04/Nov/2024 10:53:12] \"POST /endpoint HTTP/1.1\" 200 -\n",
      "127.0.0.1 - - [04/Nov/2024 10:53:14] \"POST /endpoint HTTP/1.1\" 200 -\n",
      "127.0.0.1 - - [04/Nov/2024 10:53:16] \"POST /endpoint HTTP/1.1\" 200 -\n",
      "127.0.0.1 - - [04/Nov/2024 10:53:18] \"POST /endpoint HTTP/1.1\" 200 -\n",
      "127.0.0.1 - - [04/Nov/2024 10:53:20] \"POST /endpoint HTTP/1.1\" 200 -\n",
      "127.0.0.1 - - [04/Nov/2024 10:53:21] \"POST /endpoint HTTP/1.1\" 200 -\n"
     ]
    }
   ],
   "source": [
    "from flask import Flask, request, jsonify\n",
    "from flask_cors import CORS\n",
    "import pandas as pd\n",
    "from datetime import datetime\n",
    "import ast\n",
    "\n",
    "app = Flask(__name__)\n",
    "CORS(app)\n",
    "\n",
    "class DataManager:\n",
    "    def __init__(self):\n",
    "        self.data_rows = []\n",
    "        self.started = False\n",
    "\n",
    "    def start(self):\n",
    "        self.started = True\n",
    "        self.data_rows = []\n",
    "\n",
    "    def quit(self):\n",
    "        self.started = False\n",
    "        df = pd.DataFrame(self.data_rows)\n",
    "        df.to_csv('data.csv', index=False)\n",
    "\n",
    "    def add_data(self, data):\n",
    "        if self.started:\n",
    "            row_data = handle_json(data)\n",
    "            self.data_rows.append(row_data)\n",
    "            return True\n",
    "        else:\n",
    "            return False\n",
    "\n",
    "    def get_data(self):\n",
    "        return self.data_rows\n",
    "\n",
    "data_manager = DataManager()\n",
    "\n",
    "def handle_json(json_data):\n",
    "    timestamp = datetime.now().strftime(\"%Y-%m-%d %H:%M:%S\")\n",
    "    row_data = {\"timestamp\": timestamp}\n",
    "\n",
    "    data_items = json_data.get(\"data\", [])\n",
    "    for item in data_items:\n",
    "        name = item.get(\"name\")\n",
    "        value = item.get(\"value\")\n",
    "\n",
    "        if name is not None:\n",
    "            if isinstance(value, str):\n",
    "                try:\n",
    "                    parsed_value = ast.literal_eval(value)\n",
    "                    row_data[name] = parsed_value\n",
    "                except (ValueError, SyntaxError):\n",
    "                    row_data[name] = value\n",
    "            else:\n",
    "                row_data[name] = value\n",
    "\n",
    "    return row_data\n",
    "\n",
    "@app.route('/endpoint', methods=['POST'])\n",
    "def endpoint():\n",
    "    data = request.get_json()\n",
    "    if not data:\n",
    "        return jsonify({'success': False, 'error': 'No JSON data provided'}), 400\n",
    "\n",
    "    if 'start' in data:\n",
    "        data_manager.start()\n",
    "        return jsonify({'started': True}), 200\n",
    "    elif 'quit' in data:\n",
    "        data_manager.quit()\n",
    "        return jsonify({'quit': True}), 200\n",
    "    elif 'data' in data:\n",
    "        success = data_manager.add_data(data)\n",
    "        return jsonify({'success': success}), 200\n",
    "    else:\n",
    "        return jsonify({'success': False, 'error': 'Invalid data'}), 400\n",
    "\n",
    "@app.route('/data', methods=['GET'])\n",
    "def get_data():\n",
    "    return jsonify(data_manager.get_data())\n",
    "\n",
    "if __name__ == '__main__':\n",
    "    app.run(port=5000)\n"
   ]
  },
  {
   "cell_type": "code",
   "execution_count": 12,
   "metadata": {},
   "outputs": [
    {
     "data": {
      "text/plain": [
       "{'timestamp': '2024-11-04 10:53:14',\n",
       " 'map_data': '0000000000000000000000000000000000000000000110000000000000000011110000000000000000111110000000000000000111000000000000000000000000000000000000000000000000000000000000000000000000000000000000000000000000000000000000000000000000000000000000000011100000000000000001111000000000000000001100000000000000000000000000000000000000000011100000000000000000111100000000000000000100000000000000000000000000000000',\n",
       " 'center_position': (15.41, 35.0, -2.23),\n",
       " 'camera': (15.41, 35.0, -2.23),\n",
       " 'embodiedDrone': 'null',\n",
       " 'Drone0_position': (15.14, 5.0, -0.51),\n",
       " 'Drone0_velocity': (4.88, 0.0, 1.08),\n",
       " 'Drone1_position': (19.16, 5.0, -1.62),\n",
       " 'Drone1_velocity': (4.92, 0.0, 0.89),\n",
       " 'Drone2_position': (17.78, 5.0, -4.11),\n",
       " 'Drone2_velocity': (4.91, 0.0, 0.93),\n",
       " 'Drone3_position': (16.88, 5.0, -4.38),\n",
       " 'Drone3_velocity': (4.91, 0.0, 0.95),\n",
       " 'Drone4_position': (16.4, 5.0, -2.31),\n",
       " 'Drone4_velocity': (4.99, 0.0, 0.26),\n",
       " 'Drone5_position': (17.19, 5.0, 0.56),\n",
       " 'Drone5_velocity': (4.93, 0.0, 0.85),\n",
       " 'Drone6_position': (14.65, 5.0, -2.93),\n",
       " 'Drone6_velocity': (4.93, 0.0, 0.85),\n",
       " 'Drone7_position': (19.22, 5.0, -5.22),\n",
       " 'Drone7_velocity': (4.92, 0.0, 0.92),\n",
       " 'Drone8_position': (20.45, 5.0, -4.38),\n",
       " 'Drone8_velocity': (4.6, 0.0, -1.77),\n",
       " 'Drone9_position': (19.2, 5.0, 0.97),\n",
       " 'Drone9_velocity': (4.97, 0.0, 0.53)}"
      ]
     },
     "execution_count": 12,
     "metadata": {},
     "output_type": "execute_result"
    }
   ],
   "source": [
    "data_manager.data_rows[3]"
   ]
  },
  {
   "cell_type": "code",
   "execution_count": null,
   "metadata": {},
   "outputs": [],
   "source": []
  }
 ],
 "metadata": {
  "kernelspec": {
   "display_name": "Python 3",
   "language": "python",
   "name": "python3"
  },
  "language_info": {
   "codemirror_mode": {
    "name": "ipython",
    "version": 3
   },
   "file_extension": ".py",
   "mimetype": "text/x-python",
   "name": "python",
   "nbconvert_exporter": "python",
   "pygments_lexer": "ipython3",
   "version": "3.11.0rc1"
  }
 },
 "nbformat": 4,
 "nbformat_minor": 2
}
