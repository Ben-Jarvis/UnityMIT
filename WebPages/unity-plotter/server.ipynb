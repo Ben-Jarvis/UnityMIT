{
 "cells": [
  {
   "cell_type": "code",
   "execution_count": 2,
   "metadata": {},
   "outputs": [
    {
     "name": "stdout",
     "output_type": "stream",
     "text": [
      " * Serving Flask app '__main__'\n",
      " * Debug mode: off\n"
     ]
    },
    {
     "name": "stderr",
     "output_type": "stream",
     "text": [
      "WARNING: This is a development server. Do not use it in a production deployment. Use a production WSGI server instead.\n",
      " * Running on http://127.0.0.1:5000\n",
      "Press CTRL+C to quit\n"
     ]
    }
   ],
   "source": [
    "from flask import Flask, request, jsonify\n",
    "from flask_cors import CORS\n",
    "import pandas as pd\n",
    "from datetime import datetime\n",
    "import ast\n",
    "\n",
    "app = Flask(__name__)\n",
    "CORS(app)\n",
    "\n",
    "class DataManager:\n",
    "    def __init__(self):\n",
    "        self.data_rows = []\n",
    "        self.started = False\n",
    "\n",
    "    def start(self):\n",
    "        self.started = True\n",
    "        self.data_rows = []\n",
    "\n",
    "    def quit(self):\n",
    "        self.started = False\n",
    "        df = pd.DataFrame(self.data_rows)\n",
    "        df.to_csv('data.csv', index=False)\n",
    "\n",
    "    def add_data(self, data):\n",
    "        if self.started:\n",
    "            row_data = handle_json(data)\n",
    "            self.data_rows.append(row_data)\n",
    "            return True\n",
    "        else:\n",
    "            return False\n",
    "\n",
    "    def get_data(self):\n",
    "        return self.data_rows\n",
    "\n",
    "data_manager = DataManager()\n",
    "\n",
    "def handle_json(json_data):\n",
    "    timestamp = datetime.now().strftime(\"%Y-%m-%d %H:%M:%S\")\n",
    "    row_data = {\"timestamp\": timestamp}\n",
    "\n",
    "    data_items = json_data.get(\"data\", [])\n",
    "    for item in data_items:\n",
    "        name = item.get(\"name\")\n",
    "        value = item.get(\"value\")\n",
    "\n",
    "        if name is not None:\n",
    "            if isinstance(value, str):\n",
    "                try:\n",
    "                    parsed_value = ast.literal_eval(value)\n",
    "                    row_data[name] = parsed_value\n",
    "                except (ValueError, SyntaxError):\n",
    "                    row_data[name] = value\n",
    "            else:\n",
    "                row_data[name] = value\n",
    "\n",
    "    return row_data\n",
    "\n",
    "@app.route('/endpoint', methods=['POST'])\n",
    "def endpoint():\n",
    "    data = request.get_json()\n",
    "    if not data:\n",
    "        return jsonify({'success': False, 'error': 'No JSON data provided'}), 400\n",
    "\n",
    "    if 'start' in data:\n",
    "        data_manager.start()\n",
    "        return jsonify({'started': True}), 200\n",
    "    elif 'quit' in data:\n",
    "        data_manager.quit()\n",
    "        return jsonify({'quit': True}), 200\n",
    "    elif 'data' in data:\n",
    "        success = data_manager.add_data(data)\n",
    "        return jsonify({'success': success}), 200\n",
    "    else:\n",
    "        return jsonify({'success': False, 'error': 'Invalid data'}), 400\n",
    "\n",
    "@app.route('/data', methods=['GET'])\n",
    "def get_data():\n",
    "    return jsonify(data_manager.get_data())\n",
    "\n",
    "if __name__ == '__main__':\n",
    "    app.run(port=5000)\n"
   ]
  },
  {
   "cell_type": "code",
   "execution_count": 3,
   "metadata": {},
   "outputs": [
    {
     "ename": "IndexError",
     "evalue": "list index out of range",
     "output_type": "error",
     "traceback": [
      "\u001b[1;31m---------------------------------------------------------------------------\u001b[0m",
      "\u001b[1;31mIndexError\u001b[0m                                Traceback (most recent call last)",
      "Cell \u001b[1;32mIn[3], line 1\u001b[0m\n\u001b[1;32m----> 1\u001b[0m \u001b[43mdata_manager\u001b[49m\u001b[38;5;241;43m.\u001b[39;49m\u001b[43mdata_rows\u001b[49m\u001b[43m[\u001b[49m\u001b[38;5;241;43m3\u001b[39;49m\u001b[43m]\u001b[49m\n",
      "\u001b[1;31mIndexError\u001b[0m: list index out of range"
     ]
    }
   ],
   "source": [
    "data_manager.data_rows[3]"
   ]
  },
  {
   "cell_type": "code",
   "execution_count": null,
   "metadata": {},
   "outputs": [],
   "source": []
  }
 ],
 "metadata": {
  "kernelspec": {
   "display_name": "Python 3",
   "language": "python",
   "name": "python3"
  },
  "language_info": {
   "codemirror_mode": {
    "name": "ipython",
    "version": 3
   },
   "file_extension": ".py",
   "mimetype": "text/x-python",
   "name": "python",
   "nbconvert_exporter": "python",
   "pygments_lexer": "ipython3",
   "version": "3.12.7"
  }
 },
 "nbformat": 4,
 "nbformat_minor": 2
}
